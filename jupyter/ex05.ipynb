{
 "cells": [
  {
   "cell_type": "markdown",
   "metadata": {},
   "source": [
    "## Exercise 5 - Formatting\n",
    "\n",
    "Write a loop to print out the three values \"Hello\", 10, and 3.3333 in the precisely the following format:\n",
    "<br>\n",
    "...\n",
    "<br>\n",
    "The loop should take the following form:\n",
    "```\n",
    "for i in ['Hello', 10, 3.3333]: \n",
    "    print(YOUR_STRING.format(i))\n",
    "```"
   ]
  },
  {
   "cell_type": "markdown",
   "metadata": {},
   "source": [
    "### Solution:\n",
    "The following solution put a vertical bar `|` to delimit the field, and use `*` instead of space. This allows getting a visual help to determine the string formating. You would of course remove those helps in the final version"
   ]
  },
  {
   "cell_type": "code",
   "execution_count": null,
   "metadata": {},
   "outputs": [],
   "source": [
    "for i in ['Hello', 10, 3.3333]:\n",
    "    print(f'{i:_>6}|{i:_>6}|{i:_>6}')\n",
    "\n",
    "print()\n",
    "for i in ['Hello', 10, 3.3333]:\n",
    "    print(f'{i:_>6}|{i:_>7}|{i:_>7}')"
   ]
  },
  {
   "cell_type": "markdown",
   "metadata": {},
   "source": [
    "### Just for fun\n",
    "The solution below redoes the exercise 3 by printing an empty string with \"adjusted formating\" to get the spaces and stars... It shows how to use variable field length."
   ]
  },
  {
   "cell_type": "code",
   "execution_count": null,
   "metadata": {},
   "outputs": [],
   "source": [
    "empty=''\n",
    "for i in range(10):\n",
    "    print(f\"{empty: >{9-i}}{empty:*^{2*i+1}}\")\n",
    "for i in range(9, 0, -1):\n",
    "    print(f\"{empty: >{10-i}}{empty:*^{2*i-1}}\")"
   ]
  },
  {
   "cell_type": "code",
   "execution_count": null,
   "metadata": {},
   "outputs": [],
   "source": []
  }
 ],
 "metadata": {
  "kernelspec": {
   "display_name": "Python 3 (ipykernel)",
   "language": "python",
   "name": "python3"
  },
  "language_info": {
   "codemirror_mode": {
    "name": "ipython",
    "version": 3
   },
   "file_extension": ".py",
   "mimetype": "text/x-python",
   "name": "python",
   "nbconvert_exporter": "python",
   "pygments_lexer": "ipython3",
   "version": "3.11.6"
  }
 },
 "nbformat": 4,
 "nbformat_minor": 4
}
