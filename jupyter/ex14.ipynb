{
 "cells": [
  {
   "cell_type": "markdown",
   "metadata": {},
   "source": [
    "## Exercise 14 - The Standard Library\n",
    "\n",
    "Use python standard library to:\n",
    "* list all files in current directory \n",
    "* list all files with the `.py` extension"
   ]
  },
  {
   "cell_type": "code",
   "execution_count": null,
   "metadata": {},
   "outputs": [],
   "source": [
    "import os\n",
    "import glob\n",
    "import subprocess\n",
    "\n",
    "print(40*'~')\n",
    "print(\"list all files in current directory:\")\n",
    "for f in os.listdir():\n",
    "    print(f)\n",
    "\n",
    "print('\\n'+40*'~')\n",
    "print(\"list all files with .py extension:\")\n",
    "for f in glob.glob('*.py'):\n",
    "    print(f)"
   ]
  },
  {
   "cell_type": "markdown",
   "metadata": {},
   "source": [
    "### Test Script\n",
    "\n",
    "Create a test script `zen.py` using the `%%writefile` magic IPython command"
   ]
  },
  {
   "cell_type": "code",
   "execution_count": null,
   "metadata": {},
   "outputs": [],
   "source": [
    "%%writefile zen.py\n",
    "import this"
   ]
  },
  {
   "cell_type": "markdown",
   "metadata": {},
   "source": [
    "### Run zen.py using a shell\n",
    "You might want to try setting `universal_newlines` to `False`, and see what's happening.\n",
    "\n",
    "On Python >= 3.7, you can replace the 2 parameters\n",
    "```\n",
    "  stdout = subprocess.PIPE\n",
    "  stderr = subprocess.PIPE\n",
    "```\n",
    "by: `capture_output = True`"
   ]
  },
  {
   "cell_type": "code",
   "execution_count": null,
   "metadata": {},
   "outputs": [],
   "source": [
    "# %load \"code/ex14_shell.py\"\n",
    "import subprocess\n",
    "\n",
    "print('\\n'+40*'~')\n",
    "print('run zen.py using shell\\n--')\n",
    "out = subprocess.run(\n",
    "    \"python zen.py\",\n",
    "    shell=True,\n",
    "    stdout=subprocess.PIPE,\n",
    "    stderr=subprocess.PIPE,\n",
    "    universal_newlines=True, # try setting to False\n",
    "    )"
   ]
  },
  {
   "cell_type": "code",
   "execution_count": null,
   "metadata": {},
   "outputs": [],
   "source": [
    "print(out.stdout)"
   ]
  },
  {
   "cell_type": "code",
   "execution_count": null,
   "metadata": {},
   "outputs": [],
   "source": [
    "print(out.stderr)"
   ]
  },
  {
   "cell_type": "markdown",
   "metadata": {},
   "source": [
    "### Run zen.py without a shell"
   ]
  },
  {
   "cell_type": "code",
   "execution_count": null,
   "metadata": {},
   "outputs": [],
   "source": [
    "# %load \"code/ex14_cmd.py\"\n",
    "import subprocess\n",
    "\n",
    "print('\\n'+40*'~')\n",
    "print('run zen.py as command\\n--')\n",
    "out = subprocess.run(\n",
    "    [\"python\", \"zen.py\"],\n",
    "    shell=False,\n",
    "    stdout=subprocess.PIPE,\n",
    "    stderr=subprocess.PIPE,\n",
    "    universal_newlines=True, # try setting to False\n",
    "    )"
   ]
  },
  {
   "cell_type": "code",
   "execution_count": null,
   "metadata": {},
   "outputs": [],
   "source": [
    "print(out.stdout)"
   ]
  },
  {
   "cell_type": "code",
   "execution_count": null,
   "metadata": {},
   "outputs": [],
   "source": []
  }
 ],
 "metadata": {
  "kernelspec": {
   "display_name": "Python 3 (ipykernel)",
   "language": "python",
   "name": "python3"
  },
  "language_info": {
   "codemirror_mode": {
    "name": "ipython",
    "version": 3
   },
   "file_extension": ".py",
   "mimetype": "text/x-python",
   "name": "python",
   "nbconvert_exporter": "python",
   "pygments_lexer": "ipython3",
   "version": "3.11.6"
  }
 },
 "nbformat": 4,
 "nbformat_minor": 4
}
