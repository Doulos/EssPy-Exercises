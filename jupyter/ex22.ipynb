{
 "cells": [
  {
   "cell_type": "markdown",
   "metadata": {},
   "source": [
    "# Exercise 22 - Matplotlib"
   ]
  },
  {
   "cell_type": "markdown",
   "metadata": {},
   "source": [
    "Create four subplots where each subplot shows two superimposed sine waves, each of a different wavelength, 8 sine waves in total. Use `np.linspace` to generate the x values. Give each subplot a distinct title. Add appropriate x and y labels to each plot. Experiment with various line colors, line weights, and plotting symbols. Increase the size of the plots so that they are easily readable."
   ]
  },
  {
   "cell_type": "code",
   "execution_count": null,
   "metadata": {},
   "outputs": [],
   "source": [
    "import numpy as np\n",
    "import matplotlib.pyplot as plt\n",
    "\n",
    "x = np.linspace(0, 2*np.pi, 100)\n",
    "\n",
    "plt.figure(figsize=(12,10))\n",
    "\n",
    "plt.subplot(221)\n",
    "plt.title('Plot 1')\n",
    "plt.xlabel('x')\n",
    "plt.ylabel('sin(x), sin(1.5x)')\n",
    "plt.plot(x, np.sin(1.0*x), linewidth=10.)\n",
    "plt.plot(x, np.sin(1.5*x), 'r')\n",
    "\n",
    "plt.subplot(222)\n",
    "plt.title('Plot 2')\n",
    "plt.xlabel('x')\n",
    "plt.ylabel('sin(2x), sin(2.5x)')\n",
    "plt.plot(x, np.sin(2.0*x), 'y')\n",
    "plt.plot(x, np.sin(2.5*x), 'g')\n",
    "\n",
    "plt.subplot(223)\n",
    "plt.title('Plot 3')\n",
    "plt.xlabel('x')\n",
    "plt.ylabel('sin(3x), sin(3.5x)')\n",
    "plt.plot(x, np.sin(3.0*x), 'k')\n",
    "plt.plot(x, np.sin(3.5*x), 'o')\n",
    "\n",
    "plt.subplot(224)\n",
    "plt.title('Plot 4')\n",
    "plt.xlabel('x')\n",
    "plt.ylabel('sin(4x), sin(4.5x)')\n",
    "plt.plot(x, np.sin(4.0*x), 'v')\n",
    "plt.plot(x, np.sin(4.5*x), 's')"
   ]
  },
  {
   "cell_type": "markdown",
   "metadata": {},
   "source": [
    "Create a 3-D surface plot in the shape of a dome, for example by plotting the function -(x<sup>2</sup>+y<sup>2</sup>)"
   ]
  },
  {
   "cell_type": "code",
   "execution_count": null,
   "metadata": {},
   "outputs": [],
   "source": [
    "import numpy as np\n",
    "import matplotlib\n",
    "import matplotlib.pyplot as plt\n",
    "from mpl_toolkits.mplot3d import Axes3D\n",
    "\n",
    "x = np.linspace(-1, 1, 20)\n",
    "y = np.linspace(-1, 1, 20)\n",
    "X, Y = np.meshgrid(x, y)\n",
    "Z = -X**2 -Y**2\n",
    "\n",
    "fig = plt.figure(figsize=(10, 10))\n",
    "ax = fig.add_subplot(projection='3d')\n",
    "surf = ax.plot_surface(X, Y, Z, cmap=matplotlib.cm.plasma)"
   ]
  },
  {
   "cell_type": "code",
   "execution_count": null,
   "metadata": {},
   "outputs": [],
   "source": []
  }
 ],
 "metadata": {
  "kernelspec": {
   "display_name": "Python 3 (ipykernel)",
   "language": "python",
   "name": "python3"
  },
  "language_info": {
   "codemirror_mode": {
    "name": "ipython",
    "version": 3
   },
   "file_extension": ".py",
   "mimetype": "text/x-python",
   "name": "python",
   "nbconvert_exporter": "python",
   "pygments_lexer": "ipython3",
   "version": "3.11.6"
  }
 },
 "nbformat": 4,
 "nbformat_minor": 4
}
