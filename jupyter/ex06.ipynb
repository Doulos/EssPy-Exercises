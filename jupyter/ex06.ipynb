{
 "cells": [
  {
   "cell_type": "markdown",
   "metadata": {},
   "source": [
    "## Exercise 6 - Files and Exceptions\n",
    "\n",
    "Write a program in a file to open and print itself, the file containing the program. Make sure not to write extra blank lines that were not present in the original.\n",
    "\n",
    "**Hints:**\n",
    "* Use `__file__` to get the name of the python script\n",
    "* Use string slice with step size -1 to reverse a string"
   ]
  },
  {
   "cell_type": "markdown",
   "metadata": {},
   "source": [
    "**Note**: The name of the file can be found in the URL. One of the problem is that the .ipynb file is not a pure python file, but has additionally markers and tags. A possible solution is to export a cell to a python program using the ```%%writefile``` IPython magic command, and use ```%run``` in another cell."
   ]
  },
  {
   "cell_type": "code",
   "execution_count": null,
   "metadata": {},
   "outputs": [],
   "source": [
    "%%writefile ex06.py\n",
    "try:\n",
    "    for l in open(__file__):\n",
    "        print(f\"{l}\", end='') # try removing end=''\n",
    "except:\n",
    "    print('Something went wrong...')\n",
    "    raise # do not continue (by re-raising the exception)\n",
    "    \n",
    "# Copy the contents of a file to another file,\n",
    "# reversing the order of the characters in each line\n",
    "try:\n",
    "    output = open('reversed.txt', 'w')\n",
    "    for line in open(__file__):\n",
    "        output.write(line[-2::-1] + '\\n')\n",
    "    output.close()\n",
    "except:\n",
    "    print('Error opening file')"
   ]
  },
  {
   "cell_type": "code",
   "execution_count": null,
   "metadata": {
    "scrolled": true
   },
   "outputs": [],
   "source": [
    "%run ex06.py"
   ]
  },
  {
   "cell_type": "markdown",
   "metadata": {},
   "source": [
    "**Tips!** The content of copy.txt can be loaded in a cell using the ```%load``` IPython magic command. Of course, the resulting cell cannot be executed for this particular file.\n",
    "\n",
    "Another possibility is to use a shell command to output the content of copy.txt, for instance more (should run on all platform)"
   ]
  },
  {
   "cell_type": "code",
   "execution_count": null,
   "metadata": {},
   "outputs": [],
   "source": [
    "%pycat reversed.txt"
   ]
  },
  {
   "cell_type": "markdown",
   "metadata": {},
   "source": [
    "### Using Context Manager\n",
    "This solution uses a context manager and read the file content in one go. It splits each line of the content, and print the reversed line into a file."
   ]
  },
  {
   "cell_type": "code",
   "execution_count": null,
   "metadata": {},
   "outputs": [],
   "source": [
    "%%writefile ex06_cm.py\n",
    "# use a context manager\n",
    "try:\n",
    "    with open(__file__) as f:\n",
    "        content = f.read()\n",
    "    print(content, end=\"\")\n",
    "except FileNotFoundError:\n",
    "    content = \"Couldn't open the file. Use default string for content.\"\n",
    "\n",
    "try:\n",
    "    with open(\"reversed2.txt\", \"w\") as output:\n",
    "        for l in content.splitlines():\n",
    "            print(l[::-1], file=output)\n",
    "except Exception as e:\n",
    "    \"\"\"Catching Exception is the recommended way to catch all exceptions\n",
    "    that signal runtime program errors.\n",
    "\n",
    "    See: https://peps.python.org/pep-0008/#programming-recommendations\n",
    "    \"\"\"\n",
    "    print(f\"Ooops, something went wrong :( \\n{e}\")\n"
   ]
  },
  {
   "cell_type": "code",
   "execution_count": null,
   "metadata": {},
   "outputs": [],
   "source": [
    "%run ex06_cm"
   ]
  },
  {
   "cell_type": "code",
   "execution_count": null,
   "metadata": {},
   "outputs": [],
   "source": [
    "%pycat reversed2.txt"
   ]
  },
  {
   "cell_type": "code",
   "execution_count": null,
   "metadata": {},
   "outputs": [],
   "source": []
  }
 ],
 "metadata": {
  "kernelspec": {
   "display_name": "Python 3 (ipykernel)",
   "language": "python",
   "name": "python3"
  },
  "language_info": {
   "codemirror_mode": {
    "name": "ipython",
    "version": 3
   },
   "file_extension": ".py",
   "mimetype": "text/x-python",
   "name": "python",
   "nbconvert_exporter": "python",
   "pygments_lexer": "ipython3",
   "version": "3.11.6"
  }
 },
 "nbformat": 4,
 "nbformat_minor": 4
}
