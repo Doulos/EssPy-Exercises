{
 "cells": [
  {
   "cell_type": "markdown",
   "metadata": {},
   "source": [
    "# Exercise 12 - Exploring Functions\n",
    "\n",
    "Write a decorator to print out the execution time of a function.\n",
    "\n",
    "**Hints:** \n",
    "* use `time.perf_counter` to measure the execution time\n",
    "* the name of a function can be obtained using its `__name__` attributes"
   ]
  },
  {
   "cell_type": "code",
   "execution_count": null,
   "metadata": {},
   "outputs": [],
   "source": [
    "#%%writefile stopwatch.py\n",
    "import time\n",
    "\n",
    "# that's the decorator\n",
    "def timeit(func):\n",
    "    \n",
    "    def wrapper(*args,**kwargs):\n",
    "        # what time is it before executing the function decorated\n",
    "        start_time= time.perf_counter()\n",
    "        \n",
    "        # call the original function (the one decorated)\n",
    "        result = func(*args,**kwargs)\n",
    "        \n",
    "        # what time is it now?\n",
    "        stop_time = time.perf_counter()\n",
    "        \n",
    "        # print function name and time it took (stop-start)\n",
    "        print(f\"{func.__name__}() took {stop_time-start_time}s\")\n",
    "        \n",
    "        # don't forget to return the result of the original function :)\n",
    "        return result\n",
    "    \n",
    "    # it returns a function that can take any number of arguments\n",
    "    return wrapper"
   ]
  },
  {
   "cell_type": "markdown",
   "metadata": {},
   "source": [
    "### Testing\n",
    "\n",
    "The example below shows how to use out `timeit` decorator using the\n",
    "`@timeit` syntax. To \"disable\" the timing, you just remove the `@timeit` keyword.\n",
    "\n",
    "Here we time two functions: \n",
    "* `slowFunc`: takes no argument, pauses 3 seconds, and return 6.\n",
    "* `mySuperFunc`: takes 3 arguments, pauses 1 second and return the sum of the 3 arguments.\n",
    "\n",
    "In this example, the wrapped function behaves as would the orginal function, ie. returns the same value."
   ]
  },
  {
   "cell_type": "code",
   "execution_count": null,
   "metadata": {},
   "outputs": [],
   "source": [
    "#%%writefile -a stopwatch.py\n",
    "import time\n",
    "\n",
    "@timeit\n",
    "def pause(n):\n",
    "    print(f\"going to sleep for {n} seconds...\")\n",
    "    time.sleep(n)\n",
    "    print(\"Awake now!\")\n",
    "\n",
    "@timeit\n",
    "def mySuperFunc(a,b,c):\n",
    "    print(\"enter mySuperFunc...\")\n",
    "    time.sleep(1)\n",
    "    print(\"leave mySuperFunc...\")\n",
    "    return a+b+c\n",
    "    \n",
    "print(40*'-')\n",
    "print(\"pause test\")\n",
    "pause(3)\n",
    "\n",
    "print(40*'-')\n",
    "print(\"mySuperFunc test\")\n",
    "x = mySuperFunc(6,15,21)/2\n",
    "print(\"Half-truth = \", x )"
   ]
  },
  {
   "cell_type": "code",
   "execution_count": null,
   "metadata": {},
   "outputs": [],
   "source": []
  }
 ],
 "metadata": {
  "kernelspec": {
   "display_name": "Python 3 (ipykernel)",
   "language": "python",
   "name": "python3"
  },
  "language_info": {
   "codemirror_mode": {
    "name": "ipython",
    "version": 3
   },
   "file_extension": ".py",
   "mimetype": "text/x-python",
   "name": "python",
   "nbconvert_exporter": "python",
   "pygments_lexer": "ipython3",
   "version": "3.11.6"
  }
 },
 "nbformat": 4,
 "nbformat_minor": 4
}
