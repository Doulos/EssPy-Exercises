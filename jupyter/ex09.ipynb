{
 "cells": [
  {
   "cell_type": "markdown",
   "metadata": {},
   "source": [
    "# Exercise 9 - Copying Objects"
   ]
  },
  {
   "cell_type": "markdown",
   "metadata": {},
   "source": [
    "### Pair class\n",
    "The ```Pair``` class should have the following methods:\n",
    "\n",
    "    def __init__(self, a, b)\n",
    "    def get_a(self)\n",
    "    def get_b(self)\n",
    "    def print(self)\n",
    "\n",
    "The `__init__()` method should check that `a` and `b` are of type `Pixel`. <br/>\n",
    "The `get_a()` and `get_b()` methods should return the reference to these objects.\n",
    "\n",
    "The `print()` method should call both the print method for `a` and `b`"
   ]
  },
  {
   "cell_type": "markdown",
   "metadata": {},
   "source": [
    "### Coord and Pixel class (from previous lab)"
   ]
  },
  {
   "cell_type": "code",
   "execution_count": null,
   "metadata": {},
   "outputs": [],
   "source": [
    "class Coord:\n",
    "    def __init__(self, x, y):\n",
    "        self.setxy(x, y)\n",
    "\n",
    "    def setxy(self, x, y):\n",
    "        self.setx(x)\n",
    "        self.sety(y)\n",
    "\n",
    "    def getxy(self):\n",
    "        return (self.getx(), self.gety())\n",
    "\n",
    "    def setx(self, x):\n",
    "        self._x = x\n",
    "\n",
    "    def sety(self, y):\n",
    "        self._y = y\n",
    "\n",
    "    def getx(self):\n",
    "        return self._x\n",
    "\n",
    "    def gety(self):\n",
    "        return self._y\n",
    "\n",
    "    def add(self, other):\n",
    "        return Coord(self._x + other._x, self._y + other._y)\n",
    "\n",
    "    def sub(self, other):\n",
    "        return Coord(self._x - other._x, self._y - other._y)"
   ]
  },
  {
   "cell_type": "code",
   "execution_count": null,
   "metadata": {},
   "outputs": [],
   "source": [
    "class Pixel(Coord):\n",
    "    _name = [\n",
    "        \"black\",\n",
    "        \"red\",\n",
    "        \"yellow\",\n",
    "        \"blue\",\n",
    "        \"orange\",\n",
    "        \"purple\",\n",
    "        \"green\",\n",
    "        \"white\",\n",
    "    ]\n",
    "\n",
    "    def __init__(self, x, y, c):\n",
    "        super().__init__(x, y)\n",
    "        self.set_color(c)\n",
    "\n",
    "    def set_color(self, c):\n",
    "        if 0 <= c <= 7:\n",
    "            self._c = c\n",
    "        else:\n",
    "            raise ValueError\n",
    "\n",
    "    def get_color(self):\n",
    "        return self._c\n",
    "\n",
    "    def print(self):\n",
    "        print(f\"{(self._x, self._y)}, c={self._c}<{Pixel._name[self._c]}>\")\n",
    "\n",
    "    def complement(self):\n",
    "        return Pixel(self._x, self._y, 7 - self._c)\n",
    "\n",
    "    def add(self, other):\n",
    "        r = super().add(other)\n",
    "        return Pixel(r._x, r._y, self._c | other._c)\n",
    "\n",
    "    def sub(self, other):\n",
    "        r = super().sub(other)\n",
    "        return Pixel(r._x, r._y, self._c & other._c)\n",
    "\n"
   ]
  },
  {
   "cell_type": "markdown",
   "metadata": {},
   "source": [
    "### PixelPair class implementation"
   ]
  },
  {
   "cell_type": "code",
   "execution_count": null,
   "metadata": {},
   "outputs": [],
   "source": [
    "class PixelPair:\n",
    "    def __init__(self, a, b):\n",
    "        if not isinstance(a, Pixel) or not isinstance(b, Pixel):\n",
    "            raise TypeError\n",
    "        self.a = a\n",
    "        self.b = b\n",
    "\n",
    "    def get_a(self):\n",
    "        return self.a\n",
    "\n",
    "    def get_b(self):\n",
    "        return self.b\n",
    "\n",
    "    def print(self):\n",
    "        print(\"a: \", end=\"\")\n",
    "        self.a.print()\n",
    "        print(\"b: \", end=\"\")\n",
    "        self.b.print()"
   ]
  },
  {
   "cell_type": "markdown",
   "metadata": {},
   "source": [
    "Define a,b and the corresponding PixelPair object:"
   ]
  },
  {
   "cell_type": "code",
   "execution_count": null,
   "metadata": {},
   "outputs": [],
   "source": [
    "a = Pixel(0, 1, 1)\n",
    "b = Pixel(4, 8, 2)\n",
    "p = PixelPair(a, b)\n",
    "p.print()"
   ]
  },
  {
   "cell_type": "markdown",
   "metadata": {},
   "source": [
    "### Test using a reference"
   ]
  },
  {
   "cell_type": "markdown",
   "metadata": {},
   "source": [
    "The variable `refp` is bound to the same instance object as `p` is. Thus if we update the value of `a`, this change will be see in `p.a` because `p.a is a`. \n",
    "Therefore, if we update the value of `a`, the change is seen with `refp`."
   ]
  },
  {
   "cell_type": "code",
   "execution_count": null,
   "metadata": {},
   "outputs": [],
   "source": [
    "print(\"\\nTest: cp = p\")\n",
    "cp = p\n",
    "print(f\"{cp is p = }\")\n",
    "print(f\"{cp.get_a() is p.get_a() = }\")\n",
    "print(f\"{cp.get_b() is p.get_b() = }\")\n",
    "cp.print()\n",
    "print(\"Set a color to 4\")\n",
    "a.set_color(4)\n",
    "cp.print()"
   ]
  },
  {
   "cell_type": "markdown",
   "metadata": {},
   "source": [
    "### Test using a shallow copy of p"
   ]
  },
  {
   "cell_type": "markdown",
   "metadata": {},
   "source": [
    "This time ```cp``` and ```p``` are bound two different objects: `cp is not p`.\n",
    "\n",
    "However: a shallow copy only the first depth-level. Thus: ```cp.a``` and ```cp.b``` are stilling bound to same instance as ```p.a```\n",
    "and ```p.b``` do. <br>\n",
    "Therefore, if we update the value of `a`, the change is seen with `cp`."
   ]
  },
  {
   "cell_type": "code",
   "execution_count": null,
   "metadata": {},
   "outputs": [],
   "source": [
    "# shallow copy\n",
    "print(\"\\nTest: cp = copy.copy(p)\")\n",
    "import copy\n",
    "\n",
    "cp = copy.copy(p)\n",
    "print(f\"{cp is p = }\")\n",
    "print(f\"{cp.get_a() is p.get_a() = }\")\n",
    "print(f\"{cp.get_b() is p.get_b() = }\")\n",
    "cp.print()\n",
    "print(\"Set a color to 5\")\n",
    "a.set_color(5)\n",
    "cp.print()"
   ]
  },
  {
   "cell_type": "markdown",
   "metadata": {},
   "source": [
    "### Test using a deep copy of p"
   ]
  },
  {
   "cell_type": "markdown",
   "metadata": {},
   "source": [
    "As deepcopy copy all levels, we have now two distinct pairs that behave independantly. This time, ```cp.a``` and ```cp.b``` do not refer to the same instance as ```p.a``` and ```p.b``` do. <br>\n",
    "Hence updating the value of ```a``` won't be seen in ```cp``` (but will be seen, of course, in ```p```)."
   ]
  },
  {
   "cell_type": "code",
   "execution_count": null,
   "metadata": {},
   "outputs": [],
   "source": [
    "print(\"\\nTest: cp = copy.deepcopy(p)\")\n",
    "cp = copy.deepcopy(p)\n",
    "print(f\"{cp is p = }\")\n",
    "print(f\"{cp.get_a() is p.get_a() = }\")\n",
    "print(f\"{cp.get_b() is p.get_b() = }\")\n",
    "cp.print()\n",
    "print(\"Set a color to 6\")\n",
    "a.set_color(6)\n",
    "cp.print()"
   ]
  },
  {
   "cell_type": "code",
   "execution_count": null,
   "metadata": {},
   "outputs": [],
   "source": []
  }
 ],
 "metadata": {
  "kernelspec": {
   "display_name": "Python 3 (ipykernel)",
   "language": "python",
   "name": "python3"
  },
  "language_info": {
   "codemirror_mode": {
    "name": "ipython",
    "version": 3
   },
   "file_extension": ".py",
   "mimetype": "text/x-python",
   "name": "python",
   "nbconvert_exporter": "python",
   "pygments_lexer": "ipython3",
   "version": "3.11.6"
  }
 },
 "nbformat": 4,
 "nbformat_minor": 4
}
