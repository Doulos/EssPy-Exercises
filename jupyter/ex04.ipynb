{
 "cells": [
  {
   "cell_type": "markdown",
   "metadata": {},
   "source": [
    "## Exercise 4 - Tuples, Lists and Dictionaries\n",
    "\n",
    "Write a function compare(a,b) that takes two lists as arguments:\n",
    "* test that the two lists are of the same length,\n",
    "* constructs and returns a new list of the same length as the arguments with a: \n",
    "   * 1 in each position where the corresponding elements of a and b are the same,\n",
    "   * 0 in every position where the elements of a and b are different.\n",
    "\n",
    "Example:\n",
    "```\n",
    "r = compare(a,b)\n",
    "\n",
    "a  [1, 2]     [1, 2]     [1, 2, 3] \n",
    "b  [1, 2]     [3, 4]     [4, 2, 6]\n",
    "   ------     ------     ---------\n",
    "r  [1, 1]     [0, 0]     [0, 1, 0]\n",
    "```"
   ]
  },
  {
   "cell_type": "markdown",
   "metadata": {},
   "source": [
    "### Solution"
   ]
  },
  {
   "cell_type": "code",
   "execution_count": null,
   "metadata": {},
   "outputs": [],
   "source": [
    "def compare(a, b):\n",
    "    assert (type(a) is list and type(b) is list)\n",
    "    assert (len(a) == len(b))\n",
    "    result = []\n",
    "    for i in range(len(a)):\n",
    "        if a[i] == b[i]:\n",
    "            result.append(1)\n",
    "        else:\n",
    "            result.append(0)\n",
    "    return result\n"
   ]
  },
  {
   "cell_type": "code",
   "execution_count": null,
   "metadata": {},
   "outputs": [],
   "source": [
    "# test our compare function\n",
    "def test_compare():\n",
    "    assert compare([1, 2], [1, 2]) == [1, 1]\n",
    "    assert compare([1, 2], [3, 4]) == [0, 0]\n",
    "    assert compare([1, 2, 3], [4, 2, 6]) == [0, 1, 0]\n",
    "    print('=> all tests succeeded')\n",
    "\n",
    "test_compare()"
   ]
  },
  {
   "cell_type": "markdown",
   "metadata": {},
   "source": [
    "## Another Solution\n",
    "\n",
    "You might have try to iterate over both list `a` and `b` directly using a for loop similar to:\n",
    "```\n",
    "for x,y in a,b:\n",
    "   # do processing    \n",
    "```\n",
    "It does not work however. In particular, for list whose size is not 2, is raises an exception.\n",
    "\n",
    "The tricky part is that we want to iterat over a and b _in parallel_.\n",
    "This is possible using `zip`, something we will cover when discussing _Iterators and Generators_. In this section, we'll learn an even\n",
    "more pythonic solution using list comprehension.\n",
    "\n",
    "The example below shows how to use zip, and also how to document function using docstring, which is nothing but a multi-lines comment string right after the function declaration."
   ]
  },
  {
   "cell_type": "code",
   "execution_count": null,
   "metadata": {},
   "outputs": [],
   "source": [
    "def compare(a, b):\n",
    "    \"\"\"\n",
    "    compare(a,b) - compare two list element-wise and returns the resulting 0/1 list\n",
    "\n",
    "    parameters:\n",
    "    * a: first list\n",
    "    * b: second list\n",
    "    both a and b MUST have the same length\n",
    "\n",
    "    returns:\n",
    "    a new list r of the same length as a and b\n",
    "    r[i]=1 <=> a[i]==b[i]\n",
    "    r[i]=0 otherwise\n",
    "    \"\"\"\n",
    "    assert (len(a) == len(b))\n",
    "    result = []\n",
    "    for x, y in zip(a, b):\n",
    "        result.append(1 if x == y else 0)\n",
    "    return result"
   ]
  },
  {
   "cell_type": "code",
   "execution_count": null,
   "metadata": {},
   "outputs": [],
   "source": [
    "test_compare()"
   ]
  },
  {
   "cell_type": "markdown",
   "metadata": {},
   "source": [
    "Because we have written a docstring for our `compare` function, we can simply uses `help()` to get the corresponding description:"
   ]
  },
  {
   "cell_type": "code",
   "execution_count": null,
   "metadata": {},
   "outputs": [],
   "source": [
    "help(compare)"
   ]
  },
  {
   "cell_type": "code",
   "execution_count": null,
   "metadata": {},
   "outputs": [],
   "source": []
  }
 ],
 "metadata": {
  "kernelspec": {
   "display_name": "Python 3 (ipykernel)",
   "language": "python",
   "name": "python3"
  },
  "language_info": {
   "codemirror_mode": {
    "name": "ipython",
    "version": 3
   },
   "file_extension": ".py",
   "mimetype": "text/x-python",
   "name": "python",
   "nbconvert_exporter": "python",
   "pygments_lexer": "ipython3",
   "version": "3.11.6"
  }
 },
 "nbformat": 4,
 "nbformat_minor": 4
}
