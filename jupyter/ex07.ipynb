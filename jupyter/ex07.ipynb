{
 "cells": [
  {
   "cell_type": "markdown",
   "metadata": {},
   "source": [
    "### Exercise 7 - Classes\n",
    "\n",
    "Define a class that represent a 2d-coordinate (x,y). Implement the following methods:\n",
    "* constructor\n",
    "* setter and getter\n",
    "* add() and sub() to add/substract 2 Coord instances."
   ]
  },
  {
   "cell_type": "markdown",
   "metadata": {},
   "source": [
    "### Solution"
   ]
  },
  {
   "cell_type": "code",
   "execution_count": null,
   "metadata": {},
   "outputs": [],
   "source": [
    "class Coord:\n",
    "    def __init__(self, x, y):\n",
    "        self.x = x\n",
    "        self.y = y\n",
    "\n",
    "    def setxy(self, x, y):\n",
    "        self.x = x\n",
    "        self.y = y\n",
    "\n",
    "    def getxy(self):\n",
    "        return self.x, self.y\n",
    "    \n",
    "    def setx(self, x):\n",
    "        self.x = x\n",
    "\n",
    "    def sety(self, y):\n",
    "        self.y = y\n",
    "    \n",
    "    def getx(self):\n",
    "        return self.x\n",
    "\n",
    "    def gety(self):\n",
    "        return self.y\n",
    "    \n",
    "    def add(self, other):\n",
    "        return Coord(self.x + other.x, self.y + other.y)\n",
    "\n",
    "    def sub(self, other):\n",
    "        return Coord(self.x - other.x, self.y - other.y)\n"
   ]
  },
  {
   "cell_type": "markdown",
   "metadata": {},
   "source": [
    "### Tests\n",
    "The function below tests our class Coord"
   ]
  },
  {
   "cell_type": "code",
   "execution_count": null,
   "metadata": {},
   "outputs": [],
   "source": [
    "def test_class_Coord():\n",
    "    \"\"\"\n",
    "    test the Coord class:\n",
    "    * constructor\n",
    "    * setter and getter methods\n",
    "    * add and sub methods\n",
    "    * \"dunders\" for + and - builtin operator\n",
    "\n",
    "    :return: True if success, otherwise an assert exception is raised\n",
    "    \"\"\"\n",
    "    \n",
    "    # create 2 Coord instances\n",
    "    c1 = Coord(1, 1)\n",
    "    c2 = Coord(4, 8)\n",
    "    assert c1.getxy() == (1,1)\n",
    "    assert c2.getxy() == (4,8)\n",
    "    print('c1.get() =', c1.getxy())\n",
    "    print('c2.get() =', c2.getxy())\n",
    "\n",
    "    c1.setxy(2,2)\n",
    "    assert c1.getxy() == (2,2)\n",
    "    print('c1.get() =', c1.getxy())\n",
    "    c1.setx(4)\n",
    "    c1.sety(5)\n",
    "    assert c1.getxy() == (4,5)\n",
    "    print('c1.get() =', c1.getxy())\n",
    "    print('c1.getx() =', c1.getx())\n",
    "    print('c1.gety() =', c1.gety())\n",
    "    \n",
    "    assert c1.add(c2).getxy() == (8,13)\n",
    "    assert c1.sub(c2).getxy() == (0,-3)\n",
    "    print(c1.getxy(), '+', c2.getxy(), '=', c1.add(c2).getxy())\n",
    "    print(c1.getxy(), '-', c2.getxy(), '=', c1.sub(c2).getxy())\n",
    "    \n",
    "    return True\n"
   ]
  },
  {
   "cell_type": "code",
   "execution_count": null,
   "metadata": {},
   "outputs": [],
   "source": [
    "test_class_Coord()"
   ]
  },
  {
   "cell_type": "markdown",
   "metadata": {},
   "source": [
    "### Discussion: DRY principle\n",
    "This implementation of `Coord` is functional. However many parts were simply copy-pasted. \n",
    "For instance, the following methods does the same things:\n",
    "* `add` and `__add__` \n",
    "* constructor `__init__` and `setxy` \n",
    "\n",
    "It is a good practice to avoid code replication, because\n",
    "it is less error prone (future changes or maintenance)\n",
    "\n",
    "**DRY principle** = Don't Repeat Yourself"
   ]
  },
  {
   "cell_type": "code",
   "execution_count": null,
   "metadata": {},
   "outputs": [],
   "source": [
    "class Coord2:\n",
    "    def __init__(self, x, y):\n",
    "        # alternative: Coord2.set(self, x, y)\n",
    "        # there will be a difference if the class gets derived\n",
    "        # see: inheritance\n",
    "        self.setxy(x, y)\n",
    "\n",
    "    def setxy(self, x, y):\n",
    "        self.setx(x)\n",
    "        self.sety(y)\n",
    "\n",
    "    def getxy(self):\n",
    "        return self.getx(), self.gety()\n",
    "    \n",
    "    def setx(self, x):\n",
    "        self._x = x\n",
    "\n",
    "    def sety(self, y):\n",
    "        self._y = y\n",
    "    \n",
    "    def getx(self):\n",
    "        return self._x\n",
    "\n",
    "    def gety(self):\n",
    "        return self._y\n",
    "    \n",
    "    def add(self, other):\n",
    "        return Coord(self._x + other.getx(), self._y + other.gety())\n",
    "\n",
    "    def sub(self, other):\n",
    "        return Coord(self._x - other.getx(), self._y - other.gety())\n"
   ]
  },
  {
   "cell_type": "markdown",
   "metadata": {},
   "source": [
    "### Duck-typing\n",
    "\n",
    "Our `test_class_Coord` expects a Coord class.\n",
    "\n",
    "To test our second version \"Coord2\", we could use the dynamic aspect of Python to trick our test function by simply binding `Coord` to `Coord2`. As long as `Coord2` implements the same interfaces than `Coord`, this will work. This is called `Duck typing`, which we'll \n",
    "learn in the next section on _Inheritance_.\n",
    "\n",
    "**Note**: This is a hack (for teaching purpose). A better design would be to pass an additional parameter to `test_class_Coord`, which would be used for testing the implementation of the class."
   ]
  },
  {
   "cell_type": "code",
   "execution_count": null,
   "metadata": {
    "scrolled": true
   },
   "outputs": [],
   "source": [
    "Coord=Coord2 # duck-typing at work... \n",
    "test_class_Coord()"
   ]
  },
  {
   "cell_type": "code",
   "execution_count": null,
   "metadata": {},
   "outputs": [],
   "source": []
  }
 ],
 "metadata": {
  "kernelspec": {
   "display_name": "Python 3 (ipykernel)",
   "language": "python",
   "name": "python3"
  },
  "language_info": {
   "codemirror_mode": {
    "name": "ipython",
    "version": 3
   },
   "file_extension": ".py",
   "mimetype": "text/x-python",
   "name": "python",
   "nbconvert_exporter": "python",
   "pygments_lexer": "ipython3",
   "version": "3.11.6"
  }
 },
 "nbformat": 4,
 "nbformat_minor": 4
}
