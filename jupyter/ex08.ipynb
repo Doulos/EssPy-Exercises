{
 "cells": [
  {
   "cell_type": "markdown",
   "metadata": {},
   "source": [
    "# Exercise 8 - Inheritance "
   ]
  },
  {
   "cell_type": "markdown",
   "metadata": {},
   "source": [
    "### Pixel Class\n",
    "Extend the **Coord** class to create a class **Pixel** with the following methods:\n",
    "\n",
    "    def __init__(self, x, y, c)\n",
    "    def print(self)\n",
    "    def set_color(self,c)\n",
    "    def get_color(self,c)\n",
    "    def complement(self)\n",
    "\n",
    "A valid value for a color is an integer in the range 0 to 7 inclusive. Both the `__init__()` and the `set_color()` methods should check that their argument is an integer value in the range 0 to 7. \n",
    "\n",
    "... (see text in workbook) ..."
   ]
  },
  {
   "cell_type": "markdown",
   "metadata": {},
   "source": [
    "### Coord class from previous lab:"
   ]
  },
  {
   "cell_type": "code",
   "execution_count": null,
   "metadata": {},
   "outputs": [],
   "source": [
    "class Coord:\n",
    "    \"\"\"Implement a coord object (x,y)\n",
    "\n",
    "    Note that we use the convention _x,_y for the x,y instance variable\n",
    "    to convey that these attributes are like \"protected attribute\":\n",
    "    - OK to use directly within own/derived class\n",
    "    - use the get/set interfaces elsewhere\n",
    "\n",
    "    The Pixel class might directly access the self._x, self._y. This\n",
    "    will simplify the writing of the class, but we must ensure to not\n",
    "    break thing inherited from Coord.\n",
    "    \"\"\"\n",
    "\n",
    "    def __init__(self, x, y):\n",
    "        self.setxy(x, y)\n",
    "\n",
    "    def setxy(self, x, y):\n",
    "        self.setx(x)\n",
    "        self.sety(y)\n",
    "\n",
    "    def getxy(self):\n",
    "        return (self.getx(), self.gety())\n",
    "\n",
    "    def setx(self, x):\n",
    "        self._x = x\n",
    "\n",
    "    def sety(self, y):\n",
    "        self._y = y\n",
    "\n",
    "    def getx(self):\n",
    "        return self._x\n",
    "\n",
    "    def gety(self):\n",
    "        return self._y\n",
    "\n",
    "    def add(self, other):\n",
    "        return Coord(self._x + other._x, self._y + other._y)\n",
    "\n",
    "    def sub(self, other):\n",
    "        return Coord(self._x - other._x, self._y - other._y)"
   ]
  },
  {
   "cell_type": "code",
   "execution_count": null,
   "metadata": {},
   "outputs": [],
   "source": [
    "class Pixel(Coord):\n",
    "    _name = [\n",
    "        \"black\",\n",
    "        \"red\",\n",
    "        \"yellow\",\n",
    "        \"blue\",\n",
    "        \"orange\",\n",
    "        \"purple\",\n",
    "        \"green\",\n",
    "        \"white\",\n",
    "    ]\n",
    "\n",
    "    def __init__(self, x, y, c):\n",
    "        super().__init__(x, y)\n",
    "        self.set_color(c)\n",
    "\n",
    "    def set_color(self, c):\n",
    "        if 0 <= c <= 7:\n",
    "            self._c = c\n",
    "        else:\n",
    "            raise ValueError\n",
    "\n",
    "    def get_color(self):\n",
    "        return self._c\n",
    "\n",
    "    def print(self):\n",
    "        print(f\"{(self._x, self._y)}, c={self._c}<{Pixel._name[self._c]}>\")\n",
    "\n",
    "    def complement(self):\n",
    "        return Pixel(self._x, self._y, 7 - self._c)"
   ]
  },
  {
   "cell_type": "code",
   "execution_count": null,
   "metadata": {},
   "outputs": [],
   "source": [
    "def test_class_Pixel():\n",
    "    p = Pixel(1, 2, 3)\n",
    "    p.print()  # should see: (1,2), c=3<blue>\n",
    "    assert p.get_color() == 3\n",
    "    p.set_color(2)\n",
    "    assert p.get_color() == 2\n",
    "    assert p.complement().get_color() == 5\n",
    "    p.setxy(3, 4)\n",
    "    p.complement().print()  # Should see: (3,4), c=5<purple>"
   ]
  },
  {
   "cell_type": "code",
   "execution_count": null,
   "metadata": {},
   "outputs": [],
   "source": [
    "test_class_Pixel()"
   ]
  },
  {
   "cell_type": "markdown",
   "metadata": {},
   "source": [
    "### If You Have Time\n",
    "\n",
    "Implement addition and substraction for Pixel objects."
   ]
  },
  {
   "cell_type": "code",
   "execution_count": null,
   "metadata": {},
   "outputs": [],
   "source": [
    "class Pixel(Coord):\n",
    "\n",
    "    \"\"\"class variable is better here than an instance variable:\n",
    "    the mapping is common to all objects and is constructed once\n",
    "    for all.\n",
    "\n",
    "    Using a list here is fine, as the color value do not have any\n",
    "    gap. iIf the color values had gaps, a dictionary with color/name\n",
    "    as key/value would be better\"\"\"\n",
    "\n",
    "    _name = [\n",
    "        \"black\",\n",
    "        \"red\",\n",
    "        \"yellow\",\n",
    "        \"blue\",\n",
    "        \"orange\",\n",
    "        \"purple\",\n",
    "        \"green\",\n",
    "        \"white\",\n",
    "    ]\n",
    "\n",
    "    def __init__(self, x, y, c):\n",
    "        super().__init__(x, y)\n",
    "        self.set_color(c)\n",
    "\n",
    "    def set_color(self, c):\n",
    "        if 0 <= c <= 7:\n",
    "            self._c = c\n",
    "        else:\n",
    "            raise ValueError\n",
    "\n",
    "    def get_color(self):\n",
    "        return self._c\n",
    "\n",
    "    def print(self):\n",
    "        print(f\"{(self._x, self._y)}, c={self._c}<{Pixel._name[self._c]}>\")\n",
    "\n",
    "    def complement(self):\n",
    "        return Pixel(self._x, self._y, 7 - self._c)\n",
    "\n",
    "    def add(self, other):\n",
    "        r = super().add(other)\n",
    "        return Pixel(r._x, r._y, self._c | other._c)\n",
    "\n",
    "    def sub(self, other):\n",
    "        r = super().sub(other)\n",
    "        return Pixel(r._x, r._y, self._c & other._c)"
   ]
  },
  {
   "cell_type": "code",
   "execution_count": null,
   "metadata": {},
   "outputs": [],
   "source": [
    "def test_add_sub_Pixel():\n",
    "    print(\"\\nTest Pixel addition/substraction:\")\n",
    "    p1 = Pixel(1, 2, 3)\n",
    "    p2 = Pixel(3, 4, 1)\n",
    "    r1 = p1.add(p2)\n",
    "    r2 = p1.sub(p2)\n",
    "    assert r1.getxy() == (4,6)\n",
    "    assert r2.getxy() == (-2,-2)\n",
    "    assert r1.get_color() == 3\n",
    "    assert r2.get_color() == 1\n",
    "    r1.print()\n",
    "    r2.print()\n"
   ]
  },
  {
   "cell_type": "code",
   "execution_count": null,
   "metadata": {},
   "outputs": [],
   "source": [
    "test_class_Pixel()\n",
    "test_add_sub_Pixel()"
   ]
  },
  {
   "cell_type": "code",
   "execution_count": null,
   "metadata": {},
   "outputs": [],
   "source": []
  }
 ],
 "metadata": {
  "kernelspec": {
   "display_name": "Python 3 (ipykernel)",
   "language": "python",
   "name": "python3"
  },
  "language_info": {
   "codemirror_mode": {
    "name": "ipython",
    "version": 3
   },
   "file_extension": ".py",
   "mimetype": "text/x-python",
   "name": "python",
   "nbconvert_exporter": "python",
   "pygments_lexer": "ipython3",
   "version": "3.11.6"
  }
 },
 "nbformat": 4,
 "nbformat_minor": 4
}
