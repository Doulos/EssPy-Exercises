{
 "cells": [
  {
   "cell_type": "markdown",
   "metadata": {},
   "source": [
    "# Exercise 13 - Modules\n",
    "\n",
    "The decorator of the previous exercise has been turned into a module and exported to the file ```stopwatch.py```. Refer to the ```ex11-module``` notebook to see the corresponding changes and how the notebook has been exported to raw python."
   ]
  },
  {
   "cell_type": "code",
   "execution_count": null,
   "metadata": {},
   "outputs": [],
   "source": [
    "import stopwatch"
   ]
  },
  {
   "cell_type": "markdown",
   "metadata": {},
   "source": [
    "### Testing\n",
    "\n",
    "Show how to use `timeit` decorator from the `stopwatch` module."
   ]
  },
  {
   "cell_type": "code",
   "execution_count": null,
   "metadata": {},
   "outputs": [],
   "source": [
    "import time # module needed for sleep()\n",
    "\n",
    "@stopwatch.timeit\n",
    "def myfunc(str):\n",
    "    print('enter myFunc(\"{}\")...'.format(str))\n",
    "    time.sleep(2)\n",
    "    print(\"finished!\")\n",
    "    return 3.1415\n",
    "    \n",
    "print(40*'-')\n",
    "print(\"half of the pi(e): \", myfunc(\"pi\")/2)"
   ]
  },
  {
   "cell_type": "code",
   "execution_count": null,
   "metadata": {},
   "outputs": [],
   "source": []
  }
 ],
 "metadata": {
  "kernelspec": {
   "display_name": "Python 3 (ipykernel)",
   "language": "python",
   "name": "python3"
  },
  "language_info": {
   "codemirror_mode": {
    "name": "ipython",
    "version": 3
   },
   "file_extension": ".py",
   "mimetype": "text/x-python",
   "name": "python",
   "nbconvert_exporter": "python",
   "pygments_lexer": "ipython3",
   "version": "3.11.6"
  }
 },
 "nbformat": 4,
 "nbformat_minor": 4
}
