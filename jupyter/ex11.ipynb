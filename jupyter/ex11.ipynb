{
 "cells": [
  {
   "cell_type": "markdown",
   "metadata": {},
   "source": [
    "# Exercise 11 - Iterators and Generators\n",
    "\n",
    "Define a class `BunchOfPixels` that contains a collection of objects of type `Pixel` from the previous lab 10. <br/>\n",
    "Define a generator to iterate over that collection of `Pixels`"
   ]
  },
  {
   "cell_type": "markdown",
   "metadata": {},
   "source": [
    "### Classes from the previous lab10"
   ]
  },
  {
   "cell_type": "code",
   "execution_count": null,
   "metadata": {},
   "outputs": [],
   "source": [
    "class Coord:\n",
    "    def __init__(self, x, y):\n",
    "        self.setxy(x, y)\n",
    "\n",
    "    def setxy(self, x, y):\n",
    "        self.setx(x)\n",
    "        self.sety(y)\n",
    "\n",
    "    def getxy(self):\n",
    "        return (self.getx(), self.gety())\n",
    "\n",
    "    def setx(self, x):\n",
    "        self._x = x\n",
    "\n",
    "    def sety(self, y):\n",
    "        self._y = y\n",
    "\n",
    "    def getx(self):\n",
    "        return self._x\n",
    "\n",
    "    def gety(self):\n",
    "        return self._y\n",
    "\n",
    "    def __add__(self, other):\n",
    "        return Coord(self._x + other._x, self._y + other._y)\n",
    "\n",
    "    def __sub__(self, other):\n",
    "        return Coord(self._x - other._x, self._y - other._y)"
   ]
  },
  {
   "cell_type": "code",
   "execution_count": null,
   "metadata": {},
   "outputs": [],
   "source": [
    "class Pixel(Coord):\n",
    "    _name = [\n",
    "        \"black\",\n",
    "        \"red\",\n",
    "        \"yellow\",\n",
    "        \"blue\",\n",
    "        \"orange\",\n",
    "        \"purple\",\n",
    "        \"green\",\n",
    "        \"white\",\n",
    "    ]\n",
    "\n",
    "    def __init__(self, x, y, c):\n",
    "        super().__init__(x, y)\n",
    "        self.set_color(c)\n",
    "\n",
    "    def set_color(self, c):\n",
    "        if 0 <= c <= 7:\n",
    "            self._c = c\n",
    "        else:\n",
    "            raise ValueError\n",
    "\n",
    "    def get_color(self):\n",
    "        return self._c\n",
    "\n",
    "    def __str__(self):\n",
    "        return f\"{(self._x, self._y)}, c={self._c}<{Pixel._name[self._c]}>\"\n",
    "\n",
    "    def __repr__(self):\n",
    "        return f\"Pixel({self._x},{self._y},{self._c})\"\n",
    "\n",
    "    def __neg__(self):\n",
    "        return Pixel(self._x, self._y, 7 - self._c)\n",
    "\n",
    "    def __add__(self, other):\n",
    "        r = super().__add__(other)\n",
    "        return Pixel(r._x, r._y, self._c | other._c)\n",
    "\n",
    "    def __sub__(self, other):\n",
    "        r = super().__sub__(other)\n",
    "        return Pixel(r._x, r._y, self._c & other._c)"
   ]
  },
  {
   "cell_type": "markdown",
   "metadata": {},
   "source": [
    "### BunchOfPixel class implementation"
   ]
  },
  {
   "cell_type": "code",
   "execution_count": null,
   "metadata": {},
   "outputs": [],
   "source": [
    "class BunchOfPixels:\n",
    "    def __init__(self, bunch):\n",
    "        assert isinstance(bunch, list)\n",
    "        for c in bunch:\n",
    "            assert isinstance(c, Pixel)\n",
    "        self._bunch = bunch\n",
    "\n",
    "    def gen(self):\n",
    "        for c in self._bunch:\n",
    "            yield c"
   ]
  },
  {
   "cell_type": "markdown",
   "metadata": {},
   "source": [
    "### Tests\n",
    "\n",
    "Create a `BunchOfPixels` and iterate over using a generator."
   ]
  },
  {
   "cell_type": "code",
   "execution_count": null,
   "metadata": {},
   "outputs": [],
   "source": [
    "pixels = [Pixel(n, n, c) for n, c in zip(range(7), [0, 1, 5, 2, 1, 4, 7])]\n",
    "bunch = BunchOfPixels(pixels)"
   ]
  },
  {
   "cell_type": "code",
   "execution_count": null,
   "metadata": {},
   "outputs": [],
   "source": [
    "g = bunch.gen()\n",
    "for p in g:\n",
    "    print(p)"
   ]
  },
  {
   "cell_type": "markdown",
   "metadata": {},
   "source": [
    "\n",
    "**Watch it!** <br>\n",
    "At this point, ```g``` is \"exhausted\". We cannot use ```g``` anymore in a ```for``` loop, as it would return ```StopIteration```.\n",
    "Hence the loop wouldn't run at all."
   ]
  },
  {
   "cell_type": "code",
   "execution_count": null,
   "metadata": {},
   "outputs": [],
   "source": [
    "print(next(g))"
   ]
  },
  {
   "cell_type": "markdown",
   "metadata": {},
   "source": [
    "### List comprehension \n",
    "For this reason, we need to use a new generator for the list comprehension. This can be simply obtained using ```b.generator()```"
   ]
  },
  {
   "cell_type": "code",
   "execution_count": null,
   "metadata": {},
   "outputs": [],
   "source": [
    "print(\"\\nCreate list with complementary Pixel\")\n",
    "invert = [-p for p in bunch.gen()]\n",
    "for p in invert:\n",
    "    print(p)"
   ]
  },
  {
   "cell_type": "markdown",
   "metadata": {},
   "source": [
    "### Filter function\n",
    "Using ```filter``` and ```lambda``` function, we can filter out all \n",
    "```Color``` from ```s``` which have the value 6 (\"green\")."
   ]
  },
  {
   "cell_type": "code",
   "execution_count": null,
   "metadata": {},
   "outputs": [],
   "source": [
    "print(\"\\nFilter green color (6)\")\n",
    "s = filter(lambda c: c.get_color() != 6, invert)\n",
    "for p in s:\n",
    "    print(p)"
   ]
  },
  {
   "cell_type": "markdown",
   "metadata": {},
   "source": [
    "## If You Have Time"
   ]
  },
  {
   "cell_type": "code",
   "execution_count": null,
   "metadata": {},
   "outputs": [],
   "source": [
    "class BunchOfPixels:\n",
    "    def __init__(self, bunch):\n",
    "        assert isinstance(bunch, list)\n",
    "        for c in bunch:\n",
    "            assert isinstance(c, Pixel)\n",
    "        self._bunch = bunch\n",
    "\n",
    "    def gen(self):\n",
    "        for c in self._bunch:\n",
    "            yield c\n",
    "\n",
    "    __iter__ = gen"
   ]
  },
  {
   "cell_type": "markdown",
   "metadata": {},
   "source": [
    "<br>\n",
    "After implementing the `__iter__` attribute as above, we can now use BunchOfPixels object directly in for loop."
   ]
  },
  {
   "cell_type": "code",
   "execution_count": null,
   "metadata": {},
   "outputs": [],
   "source": [
    "pixels = [Pixel(n, n, c) for n, c in zip(range(7), [0, 1, 5, 2, 1, 4, 7])]\n",
    "bunch = BunchOfPixels(pixels)\n",
    "\n",
    "for p in bunch:\n",
    "    print(p)\n",
    "\n",
    "print(\"\\nCreate list with complementary Pixel\")\n",
    "invert = [-p for p in bunch]\n",
    "for p in invert:\n",
    "    print(p)"
   ]
  },
  {
   "cell_type": "code",
   "execution_count": null,
   "metadata": {},
   "outputs": [],
   "source": []
  }
 ],
 "metadata": {
  "kernelspec": {
   "display_name": "Python 3 (ipykernel)",
   "language": "python",
   "name": "python3"
  },
  "language_info": {
   "codemirror_mode": {
    "name": "ipython",
    "version": 3
   },
   "file_extension": ".py",
   "mimetype": "text/x-python",
   "name": "python",
   "nbconvert_exporter": "python",
   "pygments_lexer": "ipython3",
   "version": "3.11.6"
  }
 },
 "nbformat": 4,
 "nbformat_minor": 4
}
