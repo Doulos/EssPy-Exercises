{
 "cells": [
  {
   "cell_type": "markdown",
   "metadata": {},
   "source": [
    "## Exercise 3 - Control Statements"
   ]
  },
  {
   "cell_type": "markdown",
   "metadata": {},
   "source": [
    "As suggested by the workbook:\n",
    "* we can use two strings for the spaces and stars\n",
    "* using for() loop and slices, we can work out the diamond shape\n",
    "\n",
    "The example below show how to print a shape using slices... Still some work to do to get the diamond ;-)"
   ]
  },
  {
   "cell_type": "code",
   "execution_count": null,
   "metadata": {},
   "outputs": [],
   "source": [
    "# 9 spaces and 19 stars\n",
    "#\n",
    "spaces = '         '\n",
    "stars = '*******************'\n",
    "\n",
    "print(spaces[0:5]+stars[0:1])\n",
    "print(spaces[0:3]+stars[0:3])\n",
    "print(spaces[0:1]+stars[0:5])"
   ]
  },
  {
   "cell_type": "markdown",
   "metadata": {},
   "source": [
    "### Solution 1: Let Python computes the number of spaces and stars\n",
    "Solution accordingly to the workbook\n",
    "Outlines:\n",
    "* two strings spaces and stars \n",
    "* 2 loops to print upper part, then the lower part of the diamond\n",
    "* 1st loop: at every new line: space line diminishes of 1, stars line has 2 addtional stars\n",
    "* 2nd loop: at every new line: space line augments of 1, stars line has 2 less stars\n",
    "\n",
    "In this solution, we use two extra variables `nspaces` and `nstars` that represents the number of spaces/stars to print out"
   ]
  },
  {
   "cell_type": "code",
   "execution_count": null,
   "metadata": {},
   "outputs": [],
   "source": [
    "spaces = '         '\n",
    "stars = '*******************'\n",
    "nspaces = 9\n",
    "nstars = 1\n",
    "for i in range(10):\n",
    "    print(spaces[0:nspaces] + stars[0:nstars])\n",
    "    nspaces -= 1\n",
    "    nstars += 2\n",
    "nspaces = 1\n",
    "nstars = 17\n",
    "for i in range(9):\n",
    "    print(spaces[0:nspaces] + stars[0:nstars])\n",
    "    nspaces += 1\n",
    "    nstars -= 2"
   ]
  },
  {
   "cell_type": "markdown",
   "metadata": {},
   "source": [
    "### Solution 2: explicit formula for the number of starts/spaces\n",
    "The following solution shows the same, but computes the number of stars/spaces directly out from the loop index. \n",
    "\n",
    "**Tip** : The formular is an affine function, that is something of the form f(i)=a*i+b. In Euclidean geometry, this corresponds to a line. To prove that the formula is valid, it is therefore enough to check that the result is correct for two distinct values of `i`, as a line is uniquely defined with 2 points.\n",
    "\n",
    "Checking extreme values is always a good idea. Here, it is even enough to validate the formula for all indexes. For example, checking the 1st loop:\n",
    "* `i=0` : 9 spaces, 1 stars  (OK)\n",
    "* `i=9` : 0 spaces, 19 stars (OK)"
   ]
  },
  {
   "cell_type": "code",
   "execution_count": null,
   "metadata": {},
   "outputs": [],
   "source": [
    "spaces = '         '\n",
    "stars = '*******************'\n",
    "for i in range(10):\n",
    "    print(spaces[0:9-i] + stars[0:i*2+1])\n",
    "for i in range(9, 0, -1):\n",
    "    print(spaces[0:10-i] + stars[0:i*2-1])"
   ]
  },
  {
   "cell_type": "markdown",
   "metadata": {},
   "source": [
    "### Other Solutions\n",
    "\n",
    "Many other solutions exist! For instance using string repeatition along with the `center` method."
   ]
  },
  {
   "cell_type": "markdown",
   "metadata": {},
   "source": [
    "## IYHT: Diamond with variable height:\n",
    "The following code create a function `diamond()` that take a size parameter, which correspond to the height of the diamond's upper part."
   ]
  },
  {
   "cell_type": "code",
   "execution_count": null,
   "metadata": {},
   "outputs": [],
   "source": [
    "def diamond( size = 7 ):\n",
    "    print(f'A diamond with size {size}:')\n",
    "    for i in range(1,2*size):\n",
    "        print( ('*' * (2*(size-abs(size-i))-1)).center(size*2) )\n",
    "        \n",
    "diamond(3)\n",
    "diamond(5)\n",
    "diamond(8)"
   ]
  },
  {
   "cell_type": "code",
   "execution_count": null,
   "metadata": {},
   "outputs": [],
   "source": []
  }
 ],
 "metadata": {
  "celltoolbar": "Raw Cell Format",
  "kernelspec": {
   "display_name": "Python 3 (ipykernel)",
   "language": "python",
   "name": "python3"
  },
  "language_info": {
   "codemirror_mode": {
    "name": "ipython",
    "version": 3
   },
   "file_extension": ".py",
   "mimetype": "text/x-python",
   "name": "python",
   "nbconvert_exporter": "python",
   "pygments_lexer": "ipython3",
   "version": "3.11.6"
  }
 },
 "nbformat": 4,
 "nbformat_minor": 4
}
