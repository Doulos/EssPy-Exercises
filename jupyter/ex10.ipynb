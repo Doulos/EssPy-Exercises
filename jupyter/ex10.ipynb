{
 "cells": [
  {
   "cell_type": "markdown",
   "metadata": {},
   "source": [
    "# Exercise 10 - Magic Methods"
   ]
  },
  {
   "cell_type": "markdown",
   "metadata": {},
   "source": [
    "In the **Coord** and **Pixel** class from lab 8:\n",
    "- Replace `add()` and `sub()` to implement the `+` and `-` operator\n",
    "- Implement `__str__` and `__repr__` in **Pixel**. Replace the print method accordingly.\n",
    "- Replace the `complement`method by the `__neg__` magic method."
   ]
  },
  {
   "cell_type": "markdown",
   "metadata": {},
   "source": [
    "### new Coord class implementation"
   ]
  },
  {
   "cell_type": "code",
   "execution_count": null,
   "metadata": {},
   "outputs": [],
   "source": [
    "class Coord:\n",
    "    def __init__(self, x, y):\n",
    "        self.setxy(x, y)\n",
    "\n",
    "    def setxy(self, x, y):\n",
    "        self.setx(x)\n",
    "        self.sety(y)\n",
    "\n",
    "    def getxy(self):\n",
    "        return (self.getx(), self.gety())\n",
    "\n",
    "    def setx(self, x):\n",
    "        self._x = x\n",
    "\n",
    "    def sety(self, y):\n",
    "        self._y = y\n",
    "\n",
    "    def getx(self):\n",
    "        return self._x\n",
    "\n",
    "    def gety(self):\n",
    "        return self._y\n",
    "\n",
    "    def __add__(self, other):\n",
    "        return Coord(self._x + other._x, self._y + other._y)\n",
    "\n",
    "    def __sub__(self, other):\n",
    "        return Coord(self._x - other._x, self._y - other._y)"
   ]
  },
  {
   "cell_type": "markdown",
   "metadata": {},
   "source": [
    "### Test the new implementation"
   ]
  },
  {
   "cell_type": "code",
   "execution_count": null,
   "metadata": {},
   "outputs": [],
   "source": [
    "def test_coord_magic():\n",
    "    # create 2 Coord instances\n",
    "    c1 = Coord(4, 5)\n",
    "    c2 = Coord(4, 8)\n",
    "    assert (c1+c2).getxy() == (8,13)\n",
    "    assert (c1-c2).getxy() == (0,-3)"
   ]
  },
  {
   "cell_type": "code",
   "execution_count": null,
   "metadata": {},
   "outputs": [],
   "source": [
    "test_coord_magic()"
   ]
  },
  {
   "cell_type": "markdown",
   "metadata": {},
   "source": [
    "### new Pixel class implementation"
   ]
  },
  {
   "cell_type": "code",
   "execution_count": null,
   "metadata": {},
   "outputs": [],
   "source": [
    "class Pixel(Coord):\n",
    "    _name = [\n",
    "        \"black\",\n",
    "        \"red\",\n",
    "        \"yellow\",\n",
    "        \"blue\",\n",
    "        \"orange\",\n",
    "        \"purple\",\n",
    "        \"green\",\n",
    "        \"white\",\n",
    "    ]\n",
    "\n",
    "    def __init__(self, x, y, c):\n",
    "        super().__init__(x, y)\n",
    "        self.set_color(c)\n",
    "\n",
    "    def set_color(self, c):\n",
    "        if 0 <= c <= 7:\n",
    "            self._c = c\n",
    "        else:\n",
    "            raise ValueError\n",
    "\n",
    "    def get_color(self):\n",
    "        return self._c\n",
    "\n",
    "    def __str__(self):\n",
    "        return f\"{(self._x, self._y)}, c={self._c}<{Pixel._name[self._c]}>\"\n",
    "\n",
    "    def __repr__(self):\n",
    "        return f\"Pixel({self._x},{self._y},{self._c})\"\n",
    "\n",
    "    def __neg__(self):\n",
    "        return Pixel(self._x, self._y, 7 - self._c)\n",
    "\n",
    "    def __add__(self, other):\n",
    "        r = super().__add__(other)\n",
    "        return Pixel(r._x, r._y, self._c | other._c)\n",
    "\n",
    "    def __sub__(self, other):\n",
    "        r = super().__sub__(other)\n",
    "        return Pixel(r._x, r._y, self._c & other._c)"
   ]
  },
  {
   "cell_type": "markdown",
   "metadata": {},
   "source": [
    "### Test the new implementation:"
   ]
  },
  {
   "cell_type": "code",
   "execution_count": null,
   "metadata": {},
   "outputs": [],
   "source": [
    "def test_class_Pixel():\n",
    "    p = Pixel(1, 2, 3)\n",
    "    print(p)\n",
    "    print(repr(p))\n",
    "    \n",
    "    assert p.get_color() == 3\n",
    "    p.set_color(2)\n",
    "    assert p.get_color() == 2\n",
    "    assert (-p).get_color() == 5\n",
    "    p.setxy(3, 4)\n",
    "    print(-p)\n",
    "    \n",
    "    print(\"\\nTest Pixel addition/substraction:\")\n",
    "    p1 = Pixel(1, 2, 3)\n",
    "    p2 = Pixel(3, 4, 1)\n",
    "    print(f\"{p1 = }\")\n",
    "    print(f\"{p2 = }\")\n",
    "    r1 = p1 + p2\n",
    "    r2 = p1 - p2\n",
    "    r3 = -r2\n",
    "    assert r1.getxy() == (4,6)\n",
    "    assert r2.getxy() == (-2,-2)\n",
    "    assert r1.get_color() == 3\n",
    "    assert r2.get_color() == 1\n",
    "    assert r3.get_color() == 6\n",
    "    assert r3.getxy() == r2.getxy()\n",
    "    print(\"r1=\", r1)\n",
    "    print(\"r2=\", r2)\n",
    "    print(\"r3=\", r3)"
   ]
  },
  {
   "cell_type": "code",
   "execution_count": null,
   "metadata": {},
   "outputs": [],
   "source": [
    "test_class_Pixel()"
   ]
  },
  {
   "cell_type": "code",
   "execution_count": null,
   "metadata": {},
   "outputs": [],
   "source": []
  }
 ],
 "metadata": {
  "kernelspec": {
   "display_name": "Python 3 (ipykernel)",
   "language": "python",
   "name": "python3"
  },
  "language_info": {
   "codemirror_mode": {
    "name": "ipython",
    "version": 3
   },
   "file_extension": ".py",
   "mimetype": "text/x-python",
   "name": "python",
   "nbconvert_exporter": "python",
   "pygments_lexer": "ipython3",
   "version": "3.11.6"
  }
 },
 "nbformat": 4,
 "nbformat_minor": 4
}
