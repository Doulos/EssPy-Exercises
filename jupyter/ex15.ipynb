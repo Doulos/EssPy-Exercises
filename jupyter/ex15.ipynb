{
 "cells": [
  {
   "cell_type": "markdown",
   "metadata": {},
   "source": [
    "# Exercise 15 - Regular Expressions\n",
    "Write a list comprehension to fill a list with 25 random integers in the range 0 to 7 included. \n",
    "\n",
    "We're using the parameter ```nsamples``` to control the number of random integers generated. <br>\n",
    "We set here to 10 (instead of 25) so that we can easily verify the output."
   ]
  },
  {
   "cell_type": "code",
   "execution_count": null,
   "metadata": {},
   "outputs": [],
   "source": [
    "import random\n",
    "import re\n",
    "\n",
    "# generate list of nsamples random integer in range 0..7 included\n",
    "nsamples = 10\n",
    "data = [random.randrange(0,8) for i in range(nsamples)]\n",
    "print(\"data = \", data)"
   ]
  },
  {
   "cell_type": "markdown",
   "metadata": {},
   "source": [
    "### Create a list\n",
    "write a second list comprehension where each integer ```n``` is converted to a string with the following pattern: ```n-…-n```"
   ]
  },
  {
   "cell_type": "code",
   "execution_count": null,
   "metadata": {},
   "outputs": [],
   "source": [
    "L = [f\"{x}{x*'-'}{x}\" for x in data]\n",
    "print(\"list = \", L)"
   ]
  },
  {
   "cell_type": "markdown",
   "metadata": {},
   "source": [
    "### Verify the created list\n",
    "We split each string into 3 matches: ```(digit)(zero or more '-')(digit)```<br/>\n",
    "Then we check that:\n",
    "- the digit value ```n``` of the 1st match == digit value of the 3rd match \n",
    "- the second match is a string of ```n``` dashes '-'"
   ]
  },
  {
   "cell_type": "code",
   "execution_count": null,
   "metadata": {},
   "outputs": [],
   "source": [
    "for s in L:\n",
    "    m=re.match(r'(\\d)(-*)(\\d)',s)\n",
    "    n=int(m.group(1))\n",
    "    assert len(m.group(2))==n and int(m.group(3))==n"
   ]
  },
  {
   "cell_type": "markdown",
   "metadata": {},
   "source": [
    "### Create a multi-line string from L"
   ]
  },
  {
   "cell_type": "code",
   "execution_count": null,
   "metadata": {},
   "outputs": [],
   "source": [
    "inputstr  = '\\n'.join(L)\n",
    "print(\"inputstr :\\n{}\".format(inputstr))"
   ]
  },
  {
   "cell_type": "markdown",
   "metadata": {},
   "source": [
    "### Replace all occurences of '00' with '*'"
   ]
  },
  {
   "cell_type": "code",
   "execution_count": null,
   "metadata": {},
   "outputs": [],
   "source": [
    "str = re.sub(r'00',r'*', inputstr)\n",
    "print(\"str :\\n{}\".format(str))"
   ]
  },
  {
   "cell_type": "markdown",
   "metadata": {},
   "source": [
    "### Verify the string using regexp\n",
    "\n",
    "We use ```findall``` with the option ```re.M``` as this is a multiple line string.\n",
    "\n",
    "We check that a string is **EITHER** of the form ```(digit)(zero or more '-')(digit)``` **OR** has exactly one ```*```. As we have a multi-line string, we use of ```^...$``` to delimit the start/end of the matching string.\n",
    "\n",
    "Altough we have 4 groups per match, we get either:\n",
    "* `group(1)...group(3)` when matching `n-..-n`, `group(4)` is empty\n",
    "* `group(4)` when matching `*`, `group(1)...group(3)` are empty.\n",
    "\n",
    "We expect to have exactly ```nsamples``` matches if the previous subsitution is correct."
   ]
  },
  {
   "cell_type": "code",
   "execution_count": null,
   "metadata": {},
   "outputs": [],
   "source": [
    "m = re.findall(r'^(\\d)(-*)(\\d)$|^(\\*{1})$',str,re.M)\n",
    "print(m)\n",
    "assert(len(m)==nsamples)"
   ]
  },
  {
   "cell_type": "code",
   "execution_count": null,
   "metadata": {},
   "outputs": [],
   "source": []
  }
 ],
 "metadata": {
  "kernelspec": {
   "display_name": "Python 3 (ipykernel)",
   "language": "python",
   "name": "python3"
  },
  "language_info": {
   "codemirror_mode": {
    "name": "ipython",
    "version": 3
   },
   "file_extension": ".py",
   "mimetype": "text/x-python",
   "name": "python",
   "nbconvert_exporter": "python",
   "pygments_lexer": "ipython3",
   "version": "3.11.6"
  }
 },
 "nbformat": 4,
 "nbformat_minor": 4
}
